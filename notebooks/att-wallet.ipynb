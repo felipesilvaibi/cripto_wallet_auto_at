{
 "cells": [
  {
   "cell_type": "code",
   "execution_count": 31,
   "metadata": {},
   "outputs": [],
   "source": [
    "import base64\n",
    "import datetime as dt\n",
    "import hmac\n",
    "import requests\n",
    "import pandas as pd\n",
    "import os\n",
    "import gspread\n",
    "from oauth2client.service_account import ServiceAccountCredentials"
   ]
  },
  {
   "cell_type": "code",
   "execution_count": 32,
   "metadata": {},
   "outputs": [],
   "source": [
    "# define the scope\n",
    "scope = ['https://spreadsheets.google.com/feeds','https://www.googleapis.com/auth/drive']\n",
    "\n",
    "# add credentials to the account\n",
    "creds = ServiceAccountCredentials.from_json_keyfile_name('../data/client_secret.json', scope)\n",
    "\n",
    "# authorize the clientsheet \n",
    "client = gspread.authorize(creds)"
   ]
  },
  {
   "cell_type": "code",
   "execution_count": 34,
   "metadata": {},
   "outputs": [],
   "source": [
    "# get the instance of the Spreadsheet\n",
    "sheet = client.open('Carteira')\n",
    "\n",
    "# get the first sheet of the Spreadsheet\n",
    "sheet_instance = sheet.get_worksheet(0)"
   ]
  },
  {
   "cell_type": "code",
   "execution_count": 60,
   "metadata": {},
   "outputs": [],
   "source": [
    "col = 26\n",
    "row = 7\n",
    "\n",
    "cripto_list = []\n",
    "\n",
    "while(True):\n",
    "    if not sheet_instance.cell(col=col,row=row).value:\n",
    "        break\n",
    "\n",
    "    cripto_list.append(\n",
    "        { \n",
    "            \"nome\": sheet_instance.cell(col=col,row=row).value,\n",
    "            \"col\": col,\n",
    "            \"row\": row\n",
    "        }\n",
    "    )\n",
    "    row += 1"
   ]
  },
  {
   "cell_type": "code",
   "execution_count": 61,
   "metadata": {},
   "outputs": [
    {
     "data": {
      "text/plain": [
       "[{'nome': 'BTC', 'col': 26, 'row': 7},\n",
       " {'nome': 'LINK', 'col': 26, 'row': 8},\n",
       " {'nome': 'AR', 'col': 26, 'row': 9},\n",
       " {'nome': 'MANA', 'col': 26, 'row': 10},\n",
       " {'nome': 'SAND', 'col': 26, 'row': 11},\n",
       " {'nome': 'UNI', 'col': 26, 'row': 12},\n",
       " {'nome': 'CRV', 'col': 26, 'row': 13},\n",
       " {'nome': 'SNX', 'col': 26, 'row': 14},\n",
       " {'nome': 'AAVE', 'col': 26, 'row': 15},\n",
       " {'nome': 'LDO', 'col': 26, 'row': 16},\n",
       " {'nome': 'GMX', 'col': 26, 'row': 17},\n",
       " {'nome': 'ETH', 'col': 26, 'row': 18},\n",
       " {'nome': 'ATOM', 'col': 26, 'row': 19},\n",
       " {'nome': 'ARB', 'col': 26, 'row': 20},\n",
       " {'nome': 'MATIC', 'col': 26, 'row': 21},\n",
       " {'nome': 'OP', 'col': 26, 'row': 22},\n",
       " {'nome': 'USDC', 'col': 26, 'row': 23}]"
      ]
     },
     "execution_count": 61,
     "metadata": {},
     "output_type": "execute_result"
    }
   ],
   "source": [
    "cripto_list"
   ]
  },
  {
   "cell_type": "code",
   "execution_count": 18,
   "metadata": {},
   "outputs": [],
   "source": [
    "def send_signed_request(http_method, url_path, payload={}):\n",
    "    def get_time():\n",
    "        return dt.datetime.utcnow().isoformat()[:-3]+'Z'\n",
    "    \n",
    "    def signature(timestamp, method, request_path, body, secret_key):\n",
    "        if str(body) == '{}' or str(body) == 'None':\n",
    "            body = ''\n",
    "        message = str(timestamp) + str.upper(method) + request_path + str(body)\n",
    "        mac = hmac.new(bytes(secret_key, encoding='utf8'), bytes(message, encoding='utf-8'), digestmod='sha256')\n",
    "        d = mac.digest()\n",
    "        return base64.b64encode(d)\n",
    "    \n",
    "    # set request header\n",
    "    def get_header(request='GET', endpoint='', body:dict=dict()):\n",
    "        cur_time = get_time()\n",
    "        header = dict()\n",
    "        header['CONTENT-TYPE'] = 'application/json'\n",
    "        header['OK-ACCESS-KEY'] = os.environ.get('OKX_API_KEY')\n",
    "        header['OK-ACCESS-SIGN'] = signature(cur_time, request, endpoint, body, os.environ.get('OKX_API_SECRET'))\n",
    "        header['OK-ACCESS-TIMESTAMP'] = str(cur_time)\n",
    "        header['OK-ACCESS-PASSPHRASE'] = os.environ.get('OKX_PASS_PHRASE')\n",
    "        return header\n",
    "\n",
    "    url = 'https://www.okx.com' + url_path\n",
    "    header = get_header(http_method, url_path, payload)\n",
    "    response = requests.get(url, headers=header)\n",
    "    return response.json()\n",
    "\n",
    "response = send_signed_request(\"GET\", \"/api/v5/account/balance\", payload={})"
   ]
  },
  {
   "cell_type": "code",
   "execution_count": 19,
   "metadata": {},
   "outputs": [],
   "source": [
    "for coin_details in response['data'][0]['details']:\n",
    "    item = next(item for item in list_cripto if item[\"nome\"] == coin_details['ccy'])\n",
    "    sheet_instance.update_cell(item['row'], item['col']+1, coin_details['eqUsd'])"
   ]
  }
 ],
 "metadata": {
  "kernelspec": {
   "display_name": ".venv",
   "language": "python",
   "name": "python3"
  },
  "language_info": {
   "codemirror_mode": {
    "name": "ipython",
    "version": 3
   },
   "file_extension": ".py",
   "mimetype": "text/x-python",
   "name": "python",
   "nbconvert_exporter": "python",
   "pygments_lexer": "ipython3",
   "version": "3.10.6"
  },
  "orig_nbformat": 4
 },
 "nbformat": 4,
 "nbformat_minor": 2
}
