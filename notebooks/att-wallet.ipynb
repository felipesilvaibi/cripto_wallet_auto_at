{
 "cells": [
  {
   "cell_type": "code",
   "execution_count": 1,
   "metadata": {},
   "outputs": [],
   "source": [
    "import base64\n",
    "import datetime as dt\n",
    "import hmac\n",
    "import requests\n",
    "import pandas as pd\n",
    "import os"
   ]
  },
  {
   "cell_type": "code",
   "execution_count": null,
   "metadata": {},
   "outputs": [],
   "source": [
    "df = pd.read_excel('../data/wallet.xlsx')\n",
    "list_cripto = df[[\"Unnamed: 25\", \"Unnamed: 26\"]][5:]\n",
    "list_cripto"
   ]
  },
  {
   "cell_type": "code",
   "execution_count": null,
   "metadata": {},
   "outputs": [],
   "source": [
    "def send_signed_request(http_method, url_path, payload={}):\n",
    "    def get_time():\n",
    "        return dt.datetime.utcnow().isoformat()[:-3]+'Z'\n",
    "    \n",
    "    def signature(timestamp, method, request_path, body, secret_key):\n",
    "        if str(body) == '{}' or str(body) == 'None':\n",
    "            body = ''\n",
    "        message = str(timestamp) + str.upper(method) + request_path + str(body)\n",
    "        mac = hmac.new(bytes(secret_key, encoding='utf8'), bytes(message, encoding='utf-8'), digestmod='sha256')\n",
    "        d = mac.digest()\n",
    "        return base64.b64encode(d)\n",
    "    \n",
    "    # set request header\n",
    "    def get_header(request='GET', endpoint='', body:dict=dict()):\n",
    "        cur_time = get_time()\n",
    "        header = dict()\n",
    "        header['CONTENT-TYPE'] = 'application/json'\n",
    "        header['OK-ACCESS-KEY'] = os.environ.get('OKX_API_KEY')\n",
    "        header['OK-ACCESS-SIGN'] = signature(cur_time, request, endpoint, body, os.environ.get('OKX_API_SECRET'))\n",
    "        header['OK-ACCESS-TIMESTAMP'] = str(cur_time)\n",
    "        header['OK-ACCESS-PASSPHRASE'] = os.environ.get('OKX_PASS_PHRASE')\n",
    "        return header\n",
    "\n",
    "    url = 'https://www.okx.com' + url_path\n",
    "    header = get_header(http_method, url_path, payload)\n",
    "    response = requests.get(url, headers=header)\n",
    "    return response.json()\n",
    "\n",
    "send_signed_request(\"GET\", \"/api/v5/account/balance\", payload={})"
   ]
  }
 ],
 "metadata": {
  "kernelspec": {
   "display_name": ".venv",
   "language": "python",
   "name": "python3"
  },
  "language_info": {
   "codemirror_mode": {
    "name": "ipython",
    "version": 3
   },
   "file_extension": ".py",
   "mimetype": "text/x-python",
   "name": "python",
   "nbconvert_exporter": "python",
   "pygments_lexer": "ipython3",
   "version": "3.10.6"
  },
  "orig_nbformat": 4
 },
 "nbformat": 4,
 "nbformat_minor": 2
}
